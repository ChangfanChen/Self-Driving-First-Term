{
 "cells": [
  {
   "cell_type": "markdown",
   "metadata": {},
   "source": [
    "# **Traffic Sign Recognition** \n",
    "\n",
    "---"
   ]
  },
  {
   "cell_type": "markdown",
   "metadata": {},
   "source": [
    "[//]: # (Image References)\n",
    "\n",
    "[image1]: ./examples/visualization.jpg \"Visualization\"\n",
    "[image2]: ./examples/grayscale.jpg \"Grayscaling\"\n",
    "[image3]: ./examples/random_noise.jpg \"Random Noise\"\n",
    "[image4]: ./examples/placeholder.png \"Traffic Sign 1\"\n",
    "[image5]: ./examples/placeholder.png \"Traffic Sign 2\"\n",
    "[image6]: ./examples/placeholder.png \"Traffic Sign 3\"\n",
    "[image7]: ./examples/placeholder.png \"Traffic Sign 4\"\n",
    "[image8]: ./examples/placeholder.png \"Traffic Sign 5\"\n"
   ]
  },
  {
   "cell_type": "markdown",
   "metadata": {},
   "source": [
    "*Build a Traffic Sign Recognition Project**\n",
    "\n",
    "The goals / steps of this project are the following:\n",
    "* Load the data set (see below for links to the project data set)\n",
    "* Explore, summarize and visualize the data set\n",
    "* Design, train and test a model architecture\n",
    "* Use the model to make predictions on new images\n",
    "* Analyze the softmax probabilities of the new images\n",
    "* Summarize the results with a written report\n",
    "\n",
    "\n",
    "[//]: # (Image References)\n",
    "\n",
    "[image1]: ./examples/visualization.jpg \"Visualization\"\n",
    "[image2]: ./examples/grayscale.jpg \"Grayscaling\"\n",
    "[image3]: ./examples/random_noise.jpg \"Random Noise\"\n",
    "[image4]: ./examples/placeholder.png \"Traffic Sign 1\"\n",
    "[image5]: ./examples/placeholder.png \"Traffic Sign 2\"\n",
    "[image6]: ./examples/placeholder.png \"Traffic Sign 3\"\n",
    "[image7]: ./examples/placeholder.png \"Traffic Sign 4\"\n",
    "[image8]: ./examples/placeholder.png \"Traffic Sign 5\"\n",
    "\n",
    "## Rubric Points\n",
    "### Here I will consider the [rubric points](https://review.udacity.com/#!/rubrics/481/view) individually and describe how I addressed each point in my implementation.  \n",
    "\n",
    "---\n",
    "### Writeup / README\n",
    "\n",
    "#### 1. Provide a Writeup / README that includes all the rubric points and how you addressed each one. You can submit your writeup as markdown or pdf. You can use this template as a guide for writing the report. The submission includes the project code.\n",
    "\n",
    "You're reading it! and here is a link to my [project code](https://github.com/udacity/CarND-Traffic-Sign-Classifier-Project/blob/master/Traffic_Sign_Classifier.ipynb)"
   ]
  },
  {
   "cell_type": "markdown",
   "metadata": {},
   "source": [
    "## Data Set Summary & Exploration\n",
    "#### 1. Provide a basic summary of the data set. In the code, the analysis should be done using python, numpy and/or pandas methods rather than hardcoding results manually"
   ]
  },
  {
   "cell_type": "markdown",
   "metadata": {},
   "source": [
    "\n",
    "I used the pandas library to calculate summary statistics of the traffic\n",
    "signs data set:\n",
    "\n",
    "* The size of training set is ?\n",
    "* The size of the validation set is ?\n",
    "* The size of test set is ?\n",
    "* The shape of a traffic sign image is ?\n",
    "* The number of unique classes/labels in the data set is ?\n",
    "\n",
    "From the given data sets:\n",
    "\n",
    "Number of training examples = 34799\n",
    "\n",
    "Number of testing examples = 12630\n",
    "\n",
    "Image data shape = (32, 32, 3)\n",
    "\n",
    "Number of classes = 43"
   ]
  },
  {
   "cell_type": "markdown",
   "metadata": {},
   "source": [
    "#### 2. Include an exploratory visualization of the dataset.\n",
    "\n",
    "Here is an exploratory visualization of the data set. It is a bar chart showing how the data is distributed in each class among 43 classes.\n",
    "\n",
    "![title](report_images/bar_chart.png)"
   ]
  },
  {
   "cell_type": "markdown",
   "metadata": {},
   "source": [
    "## Design and Test a Model Architecture\n",
    "\n",
    "#### 1. Describe how you preprocessed the image data. What techniques were chosen and why did you choose these techniques? Consider including images showing the output of each preprocessing technique. Pre-processing refers to techniques such as converting to grayscale, normalization, etc. (OPTIONAL: As described in the \"Stand Out Suggestions\" part of the rubric, if you generated additional data for training, describe why you decided to generate additional data, how you generated the data, and provide example images of the additional data. Then describe the characteristics of the augmented training set like number of images in the set, number of images for each class, etc."
   ]
  },
  {
   "cell_type": "markdown",
   "metadata": {},
   "source": [
    "As a first step, I decided to sharpen the image by using a gaussison blur to remove the noise.\n",
    "Then, I use HSV Histogram normalization in v channel to nomalized the brightness, becasue according to the raw image, some of the picture can't even tell with human eyes, so I thought this might make the picture looks more clear and also keep the color channel in the raw image instead of grayscale it.\n",
    "\n",
    "I decided to generate additional data because the more high quality datas feed into the neura network, the better the model will be trained, so I use the rotate function to modify the orginal picture with angle range between -15 ~ 15. \n",
    "\n",
    "To add more data to the the data set, for the data augmentaion part, I tripple the original data in the training sets, double the validation sets of the original data, and keep the testing sets unchanged, it shows the new data set:\n",
    "\n",
    "X_train_process_data : (104397, 32, 32, 3)\n",
    "\n",
    "X_valid_process_data : (8820, 32, 32, 3)\n",
    "\n",
    "X_test_process_data : (12630, 32, 32, 3)\n",
    "\n",
    "\n",
    "Here is an example of an original image and an augmented image:\n",
    "\n",
    "![title](report_images/raw_process.png)\n",
    "\n",
    "The difference between the original data set and the augmented data set is you can easily tell the brightness of the augment image. \n"
   ]
  },
  {
   "cell_type": "markdown",
   "metadata": {},
   "source": [
    "#### 2. Describe what your final model architecture looks like including model type, layers, layer sizes, connectivity, etc.) Consider including a diagram and/or table describing the final model.\n",
    "\n",
    "My final model consisted of the following layers:\n",
    "\n",
    "| Layer         \t\t|     Description\t        \t\t\t\t\t| \n",
    "|:---------------------:|:---------------------------------------------:| \n",
    "| Input         \t\t| 32x32x3 RGB image   \t\t\t\t\t\t\t| \n",
    "| Convolution 5x5    \t| 1x1 stride, valid padding, outputs 28x28x32 \t|\n",
    "| RELU\t\t\t\t\t|\t\t\t\t\t\t\t\t\t\t\t\t|\n",
    "| Max pooling\t      \t| 2x2 stride,  outputs 14x14x32 \t\t\t\t|\n",
    "| Convolution 5x5\t    | 1x1 stride, valid padding, outputs 10x10x64\t|\n",
    "| RELU                  |                                               |\n",
    "| Max pooling           | 2x2 stride,  outputs 5x5x64                   |\n",
    "| Flatten\t\t        | output 1600        \t\t\t\t\t\t\t|\n",
    "| Fully connected\t\t| input 1600, output 800    \t\t\t\t\t|\n",
    "| RELU\t\t\t\t\t|\t\t\t\t\t\t\t\t\t\t\t\t|\n",
    "| Dropout\t\t\t\t|\t\t\t\t\t\t\t\t\t\t\t\t|    \n",
    "| Fully connected       | input 800, output 120                         |\n",
    "| RELU\t\t            |        \t\t\t\t\t\t\t\t\t    |\n",
    "| Fully connected\t\t| input 800, output 84        \t\t\t\t\t|\n",
    "| RELU\t\t\t\t\t|\t\t\t\t\t\t\t\t\t\t\t\t|\n",
    "| Fully connected\t\t| input 84, output 43\t\t\t\t\t\t\t|\n",
    " "
   ]
  },
  {
   "cell_type": "markdown",
   "metadata": {},
   "source": [
    "#### 3. Describe how you trained your model. The discussion can include the type of optimizer, the batch size, number of epochs and any hyperparameters such as learning rate.\n",
    "\n",
    "To train the model, I used an AdamOptimizer to optimize the loss_operation, the bath size is 128, I use 15 epochs, with an learning rate 0.005, and the dropout value 0.5\n"
   ]
  },
  {
   "cell_type": "markdown",
   "metadata": {},
   "source": [
    "\n",
    "#### 4. Describe the approach taken for finding a solution and getting the validation set accuracy to be at least 0.93. Include in the discussion the results on the training, validation and test sets and where in the code these were calculated. Your approach may have been an iterative process, in which case, outline the steps you took to get to the final solution and why you chose those steps. Perhaps your solution involved an already well known implementation or architecture. In this case, discuss why you think the architecture is suitable for the current problem.\n",
    "\n",
    "My final model results were:\n",
    "* training set accuracy of ?\n",
    "* validation set accuracy of ? \n",
    "* test set accuracy of ?\n",
    "\n",
    "After 15 epochs training:\n",
    "\n",
    "the final validatoion accuracy is 96.2%\n",
    "\n",
    "the test accuracy is 95.7%\n",
    "\n",
    "If an iterative approach was chosen:\n",
    "* What was the first architecture that was tried and why was it chosen?\n",
    "* What were some problems with the initial architecture?\n",
    "* How was the architecture adjusted and why was it adjusted? Typical adjustments could include choosing a different model architecture, adding or taking away layers (pooling, dropout, convolution, etc), using an activation function or changing the activation function. One common justification for adjusting an architecture would be due to overfitting or underfitting. A high accuracy on the training set but low accuracy on the validation set indicates over fitting; a low accuracy on both sets indicates under fitting.\n",
    "* Which parameters were tuned? How were they adjusted and why?\n",
    "* What are some of the important design choices and why were they chosen? For example, why might a convolution layer work well with this problem? How might a dropout layer help with creating a successful model?\n",
    "\n",
    "The first architecture that was tried is the LeNet model within the lecture, I get roughly 88% of the accuracy,its the basic architecture widely used in deep learning, so I start modify based on the LeNet, because the validation accuracy is low and the number of the convolutional layer channels are low based on the large amount of the data sets, also it doesn't have any tech to prevent overfiting of the model. \n",
    "\n",
    "Thus I start increase the output image channels based on the convolution layer w from $Input = 32x32x3. Output = 28x28x32$. this process largely divide the features more specificly into the convnet, and I increse the amount by $2^n$, after 2 convolutional layers , with fully connected layers, I use the dropout part to prevent the overfitting of the model, and I add an extra fully connected layer to drop down dimention slowly to the end classification. \n",
    "\n",
    "After the model is modified, I first use the epochs wih 10 and learning rate 0.001 for the training, and the dropout is set to 0.5, the validation accuracy is close to 95%, which is okay to pass the test, but I want to increse more about the accuracy, so I increse the epochs to 15 and slower the rate to 0.0005, this modify prameter will slow down the learning process,which makes the learning more smooth, after several rounds of turing these prameters, I get 96.2% validation accuracy and 95.7% test accuracy. But I believe this model can still be improved by having better preprocessing images, if I have time to work on in the future.\n",
    "\n",
    "The design choices in this trafic sign classification problem is I use the convolution net base for the deep learning, these convolution process and max pooling are mainly for extracting the information from the image pixels, the idea behind the dropout process is to randomly loose information to prevent overfitting, if we fit the model too well, the test accuracy may not good as expected. So we have to balance between thses situations.\n",
    "\n",
    "If a well known architecture was chosen:\n",
    "* What architecture was chosen?\n",
    "* Why did you believe it would be relevant to the traffic sign application?\n",
    "* How does the final model's accuracy on the training, validation and test set provide evidence that the model is working well?"
   ]
  },
  {
   "cell_type": "markdown",
   "metadata": {},
   "source": [
    "### Test a Model on New Images\n",
    "\n",
    "#### 1. Choose five German traffic signs found on the web and provide them in the report. For each image, discuss what quality or qualities might be difficult to classify.\n",
    "\n",
    "I test ten German traffic signs that I found on the web,\n",
    "\n",
    "Here are only show five German traffic signs :\n",
    "\n",
    "![title](new_images/1.jpg) ![title](new_images/10.jpg)\n",
    "\n",
    "![title](new_images/2.jpg) ![title](new_images/3.jpg)\n",
    "\n",
    "![title](new_images/4.jpg) \n",
    "\n",
    "The 4th images might be difficult to classify because there is no classifiction label for  Speed limit (40km/h) in our classification label,so it will always go wrong."
   ]
  },
  {
   "cell_type": "markdown",
   "metadata": {},
   "source": [
    "#### 2. Discuss the model's predictions on these new traffic signs and compare the results to predicting on the test set. At a minimum, discuss what the predictions were, the accuracy on these new predictions, and compare the accuracy to the accuracy on the test set (OPTIONAL: Discuss the results in more detail as described in the \"Stand Out Suggestions\" part of the rubric).\n",
    "\n",
    "Here are the results of the prediction:\n",
    "\n",
    "| Image\t\t\t        |     Prediction\t        \t\t\t\t\t| \n",
    "|:---------------------:|:---------------------------------------------:| \n",
    "| Go straight or left   | Go straight or left   \t\t\t\t\t\t| \n",
    "| Keep right     \t    | Keep right \t\t\t\t\t\t\t\t    |\n",
    "| Priority Road\t\t\t| Priority Road\t\t\t\t\t\t\t\t\t|\n",
    "| Yield\t      \t\t    | Yield\t\t\t\t\t \t\t\t\t        |\n",
    "| Speed limit (40km/h)  | arrow head     \t\t\t\t\t\t\t    |\n",
    " \n",
    "\n",
    "The model was able to correctly guess 4 of the 5 traffic signs, which gives an accuracy of 80%. This compares to the test set is lower, becasue some of the signs are not labeled in in the training classification, so when new image comes, there is not trained label for it, so it went wrong."
   ]
  },
  {
   "cell_type": "markdown",
   "metadata": {},
   "source": [
    "\n",
    "#### 3. Describe how certain the model is when predicting on each of the five new images by looking at the softmax probabilities for each prediction. Provide the top 5 softmax probabilities for each image along with the sign type of each probability. (OPTIONAL: as described in the \"Stand Out Suggestions\" part of the rubric, visualizations can also be provided such as bar charts)\n",
    "\n",
    "The code for making predictions on my final model is located in the 11th cell of the Ipython notebook.\n",
    "\n",
    "Here only list the first five images:\n",
    "\n",
    "![title](report_images/softmax.png)"
   ]
  },
  {
   "cell_type": "code",
   "execution_count": null,
   "metadata": {
    "collapsed": true
   },
   "outputs": [],
   "source": []
  }
 ],
 "metadata": {
  "kernelspec": {
   "display_name": "Python 3",
   "language": "python",
   "name": "python3"
  },
  "language_info": {
   "codemirror_mode": {
    "name": "ipython",
    "version": 3
   },
   "file_extension": ".py",
   "mimetype": "text/x-python",
   "name": "python",
   "nbconvert_exporter": "python",
   "pygments_lexer": "ipython3",
   "version": "3.5.2"
  },
  "widgets": {
   "state": {},
   "version": "1.1.2"
  }
 },
 "nbformat": 4,
 "nbformat_minor": 2
}
